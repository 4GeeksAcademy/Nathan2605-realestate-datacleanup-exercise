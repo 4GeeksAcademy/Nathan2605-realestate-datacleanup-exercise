{
 "cells": [
  {
   "attachments": {},
   "cell_type": "markdown",
   "id": "innocent-university",
   "metadata": {},
   "source": [
    "# Real Estate Clean up\n",
    "\n",
    "This is a real dataset, and it was downloaded using web scraping techniques. The data contains registers from **Fotocasa** which is one of the most popular real estate websites in Spain. Please, do not do this (web scraping) unless it is for academic purposes.\n",
    "\n",
    "The dataset was downloaded a few years ago by Henry Navarro, and in no case were economic returns obtained from it.\n",
    "\n",
    "It contains thousands of data from real houses published on the web www.fotocasa.com. Your goal is to extract as much information as possible with the knowledge you have so far about data science, for example what is the most expensive house in the entire dataset?\n",
    "\n",
    "Let's start with precisely that question... Good luck!"
   ]
  },
  {
   "attachments": {},
   "cell_type": "markdown",
   "id": "multiple-glass",
   "metadata": {},
   "source": [
    "#### Exercise 00. Read the dataset assets/real_estate.csv and try to visualize the table (★☆☆)"
   ]
  },
  {
   "cell_type": "code",
   "execution_count": 4,
   "id": "frank-heath",
   "metadata": {},
   "outputs": [
    {
     "data": {
      "text/html": [
       "<div>\n",
       "<style scoped>\n",
       "    .dataframe tbody tr th:only-of-type {\n",
       "        vertical-align: middle;\n",
       "    }\n",
       "\n",
       "    .dataframe tbody tr th {\n",
       "        vertical-align: top;\n",
       "    }\n",
       "\n",
       "    .dataframe thead th {\n",
       "        text-align: right;\n",
       "    }\n",
       "</style>\n",
       "<table border=\"1\" class=\"dataframe\">\n",
       "  <thead>\n",
       "    <tr style=\"text-align: right;\">\n",
       "      <th></th>\n",
       "      <th>Unnamed: 0</th>\n",
       "      <th>id_realEstates</th>\n",
       "      <th>isNew</th>\n",
       "      <th>realEstate_name</th>\n",
       "      <th>phone_realEstate</th>\n",
       "      <th>url_inmueble</th>\n",
       "      <th>rooms</th>\n",
       "      <th>bathrooms</th>\n",
       "      <th>surface</th>\n",
       "      <th>price</th>\n",
       "      <th>...</th>\n",
       "      <th>level4Id</th>\n",
       "      <th>level5Id</th>\n",
       "      <th>level6Id</th>\n",
       "      <th>level7Id</th>\n",
       "      <th>level8Id</th>\n",
       "      <th>accuracy</th>\n",
       "      <th>latitude</th>\n",
       "      <th>longitude</th>\n",
       "      <th>zipCode</th>\n",
       "      <th>customZone</th>\n",
       "    </tr>\n",
       "  </thead>\n",
       "  <tbody>\n",
       "    <tr>\n",
       "      <th>0</th>\n",
       "      <td>1</td>\n",
       "      <td>153771986</td>\n",
       "      <td>False</td>\n",
       "      <td>ferrari 57 inmobiliaria</td>\n",
       "      <td>912177526.0</td>\n",
       "      <td>https://www.fotocasa.es/es/comprar/vivienda/ma...</td>\n",
       "      <td>3.0</td>\n",
       "      <td>2.0</td>\n",
       "      <td>103.0</td>\n",
       "      <td>195000</td>\n",
       "      <td>...</td>\n",
       "      <td>0</td>\n",
       "      <td>0</td>\n",
       "      <td>0</td>\n",
       "      <td>0</td>\n",
       "      <td>0</td>\n",
       "      <td>0</td>\n",
       "      <td>40,2948276786438</td>\n",
       "      <td>-3,44402412135624</td>\n",
       "      <td>NaN</td>\n",
       "      <td>NaN</td>\n",
       "    </tr>\n",
       "    <tr>\n",
       "      <th>1</th>\n",
       "      <td>2</td>\n",
       "      <td>153867863</td>\n",
       "      <td>False</td>\n",
       "      <td>tecnocasa fuenlabrada ferrocarril</td>\n",
       "      <td>916358736.0</td>\n",
       "      <td>https://www.fotocasa.es/es/comprar/vivienda/ma...</td>\n",
       "      <td>3.0</td>\n",
       "      <td>1.0</td>\n",
       "      <td>NaN</td>\n",
       "      <td>89000</td>\n",
       "      <td>...</td>\n",
       "      <td>0</td>\n",
       "      <td>0</td>\n",
       "      <td>0</td>\n",
       "      <td>0</td>\n",
       "      <td>0</td>\n",
       "      <td>1</td>\n",
       "      <td>40,28674</td>\n",
       "      <td>-3,79351</td>\n",
       "      <td>NaN</td>\n",
       "      <td>NaN</td>\n",
       "    </tr>\n",
       "    <tr>\n",
       "      <th>2</th>\n",
       "      <td>3</td>\n",
       "      <td>153430440</td>\n",
       "      <td>False</td>\n",
       "      <td>look find boadilla</td>\n",
       "      <td>916350408.0</td>\n",
       "      <td>https://www.fotocasa.es/es/comprar/vivienda/ma...</td>\n",
       "      <td>2.0</td>\n",
       "      <td>2.0</td>\n",
       "      <td>99.0</td>\n",
       "      <td>390000</td>\n",
       "      <td>...</td>\n",
       "      <td>0</td>\n",
       "      <td>0</td>\n",
       "      <td>0</td>\n",
       "      <td>0</td>\n",
       "      <td>0</td>\n",
       "      <td>0</td>\n",
       "      <td>40,4115646786438</td>\n",
       "      <td>-3,90662252135624</td>\n",
       "      <td>NaN</td>\n",
       "      <td>NaN</td>\n",
       "    </tr>\n",
       "    <tr>\n",
       "      <th>3</th>\n",
       "      <td>4</td>\n",
       "      <td>152776331</td>\n",
       "      <td>False</td>\n",
       "      <td>tecnocasa fuenlabrada ferrocarril</td>\n",
       "      <td>916358736.0</td>\n",
       "      <td>https://www.fotocasa.es/es/comprar/vivienda/ma...</td>\n",
       "      <td>3.0</td>\n",
       "      <td>1.0</td>\n",
       "      <td>86.0</td>\n",
       "      <td>89000</td>\n",
       "      <td>...</td>\n",
       "      <td>0</td>\n",
       "      <td>0</td>\n",
       "      <td>0</td>\n",
       "      <td>0</td>\n",
       "      <td>0</td>\n",
       "      <td>0</td>\n",
       "      <td>40,2853785786438</td>\n",
       "      <td>-3,79508142135624</td>\n",
       "      <td>NaN</td>\n",
       "      <td>NaN</td>\n",
       "    </tr>\n",
       "    <tr>\n",
       "      <th>4</th>\n",
       "      <td>5</td>\n",
       "      <td>153180188</td>\n",
       "      <td>False</td>\n",
       "      <td>ferrari 57 inmobiliaria</td>\n",
       "      <td>912177526.0</td>\n",
       "      <td>https://www.fotocasa.es/es/comprar/vivienda/ma...</td>\n",
       "      <td>2.0</td>\n",
       "      <td>2.0</td>\n",
       "      <td>106.0</td>\n",
       "      <td>172000</td>\n",
       "      <td>...</td>\n",
       "      <td>0</td>\n",
       "      <td>0</td>\n",
       "      <td>0</td>\n",
       "      <td>0</td>\n",
       "      <td>0</td>\n",
       "      <td>0</td>\n",
       "      <td>40,2998774864376</td>\n",
       "      <td>-3,45226301356237</td>\n",
       "      <td>NaN</td>\n",
       "      <td>NaN</td>\n",
       "    </tr>\n",
       "    <tr>\n",
       "      <th>...</th>\n",
       "      <td>...</td>\n",
       "      <td>...</td>\n",
       "      <td>...</td>\n",
       "      <td>...</td>\n",
       "      <td>...</td>\n",
       "      <td>...</td>\n",
       "      <td>...</td>\n",
       "      <td>...</td>\n",
       "      <td>...</td>\n",
       "      <td>...</td>\n",
       "      <td>...</td>\n",
       "      <td>...</td>\n",
       "      <td>...</td>\n",
       "      <td>...</td>\n",
       "      <td>...</td>\n",
       "      <td>...</td>\n",
       "      <td>...</td>\n",
       "      <td>...</td>\n",
       "      <td>...</td>\n",
       "      <td>...</td>\n",
       "      <td>...</td>\n",
       "    </tr>\n",
       "    <tr>\n",
       "      <th>15330</th>\n",
       "      <td>15331</td>\n",
       "      <td>153901377</td>\n",
       "      <td>False</td>\n",
       "      <td>infocasa consulting</td>\n",
       "      <td>911360461.0</td>\n",
       "      <td>https://www.fotocasa.es/es/comprar/vivienda/ma...</td>\n",
       "      <td>2.0</td>\n",
       "      <td>1.0</td>\n",
       "      <td>96.0</td>\n",
       "      <td>259470</td>\n",
       "      <td>...</td>\n",
       "      <td>0</td>\n",
       "      <td>0</td>\n",
       "      <td>0</td>\n",
       "      <td>0</td>\n",
       "      <td>0</td>\n",
       "      <td>0</td>\n",
       "      <td>40,45416</td>\n",
       "      <td>-3,70286</td>\n",
       "      <td>NaN</td>\n",
       "      <td>NaN</td>\n",
       "    </tr>\n",
       "    <tr>\n",
       "      <th>15331</th>\n",
       "      <td>15332</td>\n",
       "      <td>150394373</td>\n",
       "      <td>False</td>\n",
       "      <td>inmobiliaria pulpon</td>\n",
       "      <td>912788039.0</td>\n",
       "      <td>https://www.fotocasa.es/es/comprar/vivienda/ma...</td>\n",
       "      <td>3.0</td>\n",
       "      <td>1.0</td>\n",
       "      <td>150.0</td>\n",
       "      <td>165000</td>\n",
       "      <td>...</td>\n",
       "      <td>0</td>\n",
       "      <td>0</td>\n",
       "      <td>0</td>\n",
       "      <td>0</td>\n",
       "      <td>0</td>\n",
       "      <td>0</td>\n",
       "      <td>40,36652</td>\n",
       "      <td>-3,48951</td>\n",
       "      <td>NaN</td>\n",
       "      <td>NaN</td>\n",
       "    </tr>\n",
       "    <tr>\n",
       "      <th>15332</th>\n",
       "      <td>15333</td>\n",
       "      <td>153901397</td>\n",
       "      <td>False</td>\n",
       "      <td>tecnocasa torrelodones</td>\n",
       "      <td>912780348.0</td>\n",
       "      <td>https://www.fotocasa.es/es/comprar/vivienda/ma...</td>\n",
       "      <td>4.0</td>\n",
       "      <td>2.0</td>\n",
       "      <td>175.0</td>\n",
       "      <td>495000</td>\n",
       "      <td>...</td>\n",
       "      <td>0</td>\n",
       "      <td>0</td>\n",
       "      <td>0</td>\n",
       "      <td>0</td>\n",
       "      <td>0</td>\n",
       "      <td>0</td>\n",
       "      <td>40,57444</td>\n",
       "      <td>-3,92124</td>\n",
       "      <td>NaN</td>\n",
       "      <td>NaN</td>\n",
       "    </tr>\n",
       "    <tr>\n",
       "      <th>15333</th>\n",
       "      <td>15334</td>\n",
       "      <td>152607440</td>\n",
       "      <td>False</td>\n",
       "      <td>inmobiliaria pulpon</td>\n",
       "      <td>912788039.0</td>\n",
       "      <td>https://www.fotocasa.es/es/comprar/vivienda/ma...</td>\n",
       "      <td>3.0</td>\n",
       "      <td>2.0</td>\n",
       "      <td>101.0</td>\n",
       "      <td>195000</td>\n",
       "      <td>...</td>\n",
       "      <td>0</td>\n",
       "      <td>0</td>\n",
       "      <td>0</td>\n",
       "      <td>0</td>\n",
       "      <td>0</td>\n",
       "      <td>0</td>\n",
       "      <td>40,36967</td>\n",
       "      <td>-3,48105</td>\n",
       "      <td>NaN</td>\n",
       "      <td>NaN</td>\n",
       "    </tr>\n",
       "    <tr>\n",
       "      <th>15334</th>\n",
       "      <td>15335</td>\n",
       "      <td>153901356</td>\n",
       "      <td>False</td>\n",
       "      <td>infocasa consulting</td>\n",
       "      <td>911360461.0</td>\n",
       "      <td>https://www.fotocasa.es/es/comprar/vivienda/ma...</td>\n",
       "      <td>3.0</td>\n",
       "      <td>2.0</td>\n",
       "      <td>152.0</td>\n",
       "      <td>765000</td>\n",
       "      <td>...</td>\n",
       "      <td>0</td>\n",
       "      <td>0</td>\n",
       "      <td>0</td>\n",
       "      <td>0</td>\n",
       "      <td>0</td>\n",
       "      <td>0</td>\n",
       "      <td>40,45773</td>\n",
       "      <td>-3,69068</td>\n",
       "      <td>NaN</td>\n",
       "      <td>NaN</td>\n",
       "    </tr>\n",
       "  </tbody>\n",
       "</table>\n",
       "<p>15335 rows × 37 columns</p>\n",
       "</div>"
      ],
      "text/plain": [
       "       Unnamed: 0  id_realEstates  isNew                    realEstate_name  \\\n",
       "0               1       153771986  False            ferrari 57 inmobiliaria   \n",
       "1               2       153867863  False  tecnocasa fuenlabrada ferrocarril   \n",
       "2               3       153430440  False                 look find boadilla   \n",
       "3               4       152776331  False  tecnocasa fuenlabrada ferrocarril   \n",
       "4               5       153180188  False            ferrari 57 inmobiliaria   \n",
       "...           ...             ...    ...                                ...   \n",
       "15330       15331       153901377  False                infocasa consulting   \n",
       "15331       15332       150394373  False                inmobiliaria pulpon   \n",
       "15332       15333       153901397  False             tecnocasa torrelodones   \n",
       "15333       15334       152607440  False                inmobiliaria pulpon   \n",
       "15334       15335       153901356  False                infocasa consulting   \n",
       "\n",
       "       phone_realEstate                                       url_inmueble  \\\n",
       "0           912177526.0  https://www.fotocasa.es/es/comprar/vivienda/ma...   \n",
       "1           916358736.0  https://www.fotocasa.es/es/comprar/vivienda/ma...   \n",
       "2           916350408.0  https://www.fotocasa.es/es/comprar/vivienda/ma...   \n",
       "3           916358736.0  https://www.fotocasa.es/es/comprar/vivienda/ma...   \n",
       "4           912177526.0  https://www.fotocasa.es/es/comprar/vivienda/ma...   \n",
       "...                 ...                                                ...   \n",
       "15330       911360461.0  https://www.fotocasa.es/es/comprar/vivienda/ma...   \n",
       "15331       912788039.0  https://www.fotocasa.es/es/comprar/vivienda/ma...   \n",
       "15332       912780348.0  https://www.fotocasa.es/es/comprar/vivienda/ma...   \n",
       "15333       912788039.0  https://www.fotocasa.es/es/comprar/vivienda/ma...   \n",
       "15334       911360461.0  https://www.fotocasa.es/es/comprar/vivienda/ma...   \n",
       "\n",
       "       rooms  bathrooms  surface   price  ... level4Id level5Id level6Id  \\\n",
       "0        3.0        2.0    103.0  195000  ...        0        0        0   \n",
       "1        3.0        1.0      NaN   89000  ...        0        0        0   \n",
       "2        2.0        2.0     99.0  390000  ...        0        0        0   \n",
       "3        3.0        1.0     86.0   89000  ...        0        0        0   \n",
       "4        2.0        2.0    106.0  172000  ...        0        0        0   \n",
       "...      ...        ...      ...     ...  ...      ...      ...      ...   \n",
       "15330    2.0        1.0     96.0  259470  ...        0        0        0   \n",
       "15331    3.0        1.0    150.0  165000  ...        0        0        0   \n",
       "15332    4.0        2.0    175.0  495000  ...        0        0        0   \n",
       "15333    3.0        2.0    101.0  195000  ...        0        0        0   \n",
       "15334    3.0        2.0    152.0  765000  ...        0        0        0   \n",
       "\n",
       "      level7Id level8Id accuracy          latitude          longitude zipCode  \\\n",
       "0            0        0        0  40,2948276786438  -3,44402412135624     NaN   \n",
       "1            0        0        1          40,28674           -3,79351     NaN   \n",
       "2            0        0        0  40,4115646786438  -3,90662252135624     NaN   \n",
       "3            0        0        0  40,2853785786438  -3,79508142135624     NaN   \n",
       "4            0        0        0  40,2998774864376  -3,45226301356237     NaN   \n",
       "...        ...      ...      ...               ...                ...     ...   \n",
       "15330        0        0        0          40,45416           -3,70286     NaN   \n",
       "15331        0        0        0          40,36652           -3,48951     NaN   \n",
       "15332        0        0        0          40,57444           -3,92124     NaN   \n",
       "15333        0        0        0          40,36967           -3,48105     NaN   \n",
       "15334        0        0        0          40,45773           -3,69068     NaN   \n",
       "\n",
       "      customZone  \n",
       "0            NaN  \n",
       "1            NaN  \n",
       "2            NaN  \n",
       "3            NaN  \n",
       "4            NaN  \n",
       "...          ...  \n",
       "15330        NaN  \n",
       "15331        NaN  \n",
       "15332        NaN  \n",
       "15333        NaN  \n",
       "15334        NaN  \n",
       "\n",
       "[15335 rows x 37 columns]"
      ]
     },
     "execution_count": 4,
     "metadata": {},
     "output_type": "execute_result"
    }
   ],
   "source": [
    "import pandas as pd\n",
    "\n",
    "# This CSV file contains semicolons instead of comas as separator\n",
    "ds = pd.read_csv('assets/real_estate.csv', sep=';')\n",
    "ds"
   ]
  },
  {
   "attachments": {},
   "cell_type": "markdown",
   "id": "latin-guest",
   "metadata": {},
   "source": [
    "#### Exercise 01. Which is the most expensive house in the dataset? (★☆☆)\n",
    "\n",
    "Print the address and the price of the selected house. For example:\n",
    "\n",
    "`The house with address General Street Nº5 is the most expensive and its price is 5000000 USD`"
   ]
  },
  {
   "cell_type": "code",
   "execution_count": 5,
   "id": "developing-optimum",
   "metadata": {},
   "outputs": [
    {
     "name": "stdout",
     "output_type": "stream",
     "text": [
      "The house with address El Escorial is the most expensive and its price is 8500000 USD\n"
     ]
    }
   ],
   "source": [
    "import pandas as pd\n",
    "ds = pd.read_csv('assets/real_estate.csv', sep=';')\n",
    "\n",
    "#CASA MAS CARA\n",
    "max_price = ds['price'].max()\n",
    "address_max_price = ds[ds['price'] == ds['price'].max()]['address'].to_list()[0]\n",
    "print(f\"The house with address {address_max_price} is the most expensive and its price is {max_price} USD\")"
   ]
  },
  {
   "cell_type": "code",
   "execution_count": 6,
   "id": "63fa5518",
   "metadata": {},
   "outputs": [
    {
     "name": "stdout",
     "output_type": "stream",
     "text": [
      "The house with address El Escorial is the most expensive and its price is 8500000 USD\n"
     ]
    }
   ],
   "source": [
    "##OPCION2\n",
    "import pandas as pd\n",
    "ds = pd.read_csv('assets/real_estate.csv', sep=';')\n",
    "\n",
    "#CASA MAS CARA\n",
    "max_price = ds[\"price\"].max()\n",
    "max_price_address = ds.loc[ ds[\"price\"] == max_price ] [\"address\"] \n",
    "print(f\"The house with address {max_price_address .values[0]} is the most expensive and its price is {max_price} USD\")"
   ]
  },
  {
   "attachments": {},
   "cell_type": "markdown",
   "id": "lesser-cosmetic",
   "metadata": {},
   "source": [
    "#### Exercise 02. Which is the cheapest house in the dataset? (★☆☆)\n",
    "\n",
    "Print the address and the price of the selected house. For example:\n",
    "\n",
    "`The house with address Concrete Street Nº1 is the cheapest and its price is 12000 USD`"
   ]
  },
  {
   "cell_type": "code",
   "execution_count": 7,
   "id": "lovely-oasis",
   "metadata": {},
   "outputs": [
    {
     "name": "stdout",
     "output_type": "stream",
     "text": [
      "The house with address Berlin, Coslada is the cheapest and its price is 600 USD\n"
     ]
    }
   ],
   "source": [
    "import pandas as pd\n",
    "ds = pd.read_csv('assets/real_estate.csv', sep=';')\n",
    "\n",
    "#CREAR UNA COPIA QUITANDO LAS CASAS QUE TIENEN PRECIO 0\n",
    "ds2 = ds.copy()\n",
    "ds2 = ds2[ds2['price'] > 0]\n",
    "\n",
    "#ENCONTRAR LA CASA MAS BARATA\n",
    "min_price = ds2['price'].min()\n",
    "address_min_price = ds2[ds2['price'] == ds2['price'].min()]['address'].to_list()[0]\n",
    "print(f\"The house with address {address_min_price} is the cheapest and its price is {min_price} USD\")"
   ]
  },
  {
   "cell_type": "code",
   "execution_count": 8,
   "id": "f2e2f372",
   "metadata": {},
   "outputs": [
    {
     "name": "stdout",
     "output_type": "stream",
     "text": [
      "The house with address Berlin, Coslada is the cheapest and its price is 600 USD\n"
     ]
    }
   ],
   "source": [
    "##OPCION2\n",
    "import pandas as pd\n",
    "ds = pd.read_csv('assets/real_estate.csv', sep=';')\n",
    "#CASA MAS BARATA\n",
    "ds_filtro = ds.copy().loc[ds['price'] > 0]\n",
    "min_price = ds_filtro[\"price\"].min()\n",
    "min_price_address = ds.loc[ds['price'] == min_price][\"address\"].values[0]\n",
    "print(f\"The house with address {min_price_address} is the cheapest and its price is {min_price} USD\")"
   ]
  },
  {
   "attachments": {},
   "cell_type": "markdown",
   "id": "compliant-fellowship",
   "metadata": {},
   "source": [
    "#### Exercise 03. Which is the biggest and the smallest house in the dataset? (★☆☆)\n",
    "\n",
    "Print both the address and the surface of the selected houses. For example:\n",
    "\n",
    "`The biggest house is located on Yukka Street Nº10 and its surface is 5000 meters`\n",
    "\n",
    "`The smallest house is located on County Road 1 N and its surface is 200 meters`"
   ]
  },
  {
   "cell_type": "code",
   "execution_count": 9,
   "id": "every-tiffany",
   "metadata": {},
   "outputs": [
    {
     "name": "stdout",
     "output_type": "stream",
     "text": [
      "The biggest house is located on Sevilla la Nueva and its surface is 249000.0 meters\n",
      "The smallest house is located on Calle Amparo,  Madrid Capital and its surface is 15.0 meters\n"
     ]
    }
   ],
   "source": [
    "import pandas as pd\n",
    "ds = pd.read_csv('assets/real_estate.csv', sep=';')\n",
    "\n",
    "#CASA MAS GRANDE\n",
    "surface_max = ds['surface'].max()\n",
    "address_surface_max = ds[ds['surface'] == ds['surface'].max()]['address'].to_list()[0]\n",
    "print(f\"The biggest house is located on {address_surface_max} and its surface is {surface_max} meters\") \n",
    "\n",
    "#CASA MAS CHICA\n",
    "surface_min = ds['surface'].min()\n",
    "address_surface_min = ds[ds['surface'] == ds['surface'].min()]['address'].to_list()[0]\n",
    "print(f\"The smallest house is located on {address_surface_min} and its surface is {surface_min} meters\") "
   ]
  },
  {
   "cell_type": "code",
   "execution_count": 10,
   "id": "0e7ccbd8",
   "metadata": {},
   "outputs": [
    {
     "name": "stdout",
     "output_type": "stream",
     "text": [
      "The biggest house is located on Sevilla la Nueva and its surface is 249000.0 meters\n",
      "The samllest house is located on Calle Amparo,  Madrid Capital and its surface is 15.0 meters\n"
     ]
    }
   ],
   "source": [
    "import pandas as pd\n",
    "\n",
    "ds = pd.read_csv('assets/real_estate.csv', sep=';')\n",
    "\n",
    "#CASA MAS GRANDE Y MAS CHICA\n",
    "max_surface = ds[\"surface\"].max()\n",
    "min_surface = ds[\"surface\"].min()\n",
    "max_surface_address = ds.loc[ds['surface'] == max_surface][\"address\"].values[0]\n",
    "min_surface_address = ds.loc[ds['surface'] == min_surface][\"address\"].values[0]\n",
    "print(f\"The biggest house is located on {max_surface_address} and its surface is {max_surface} meters\")\n",
    "print(f\"The samllest house is located on {min_surface_address} and its surface is {min_surface} meters\")"
   ]
  },
  {
   "attachments": {},
   "cell_type": "markdown",
   "id": "danish-spirit",
   "metadata": {},
   "source": [
    "#### Exercise 04. How many populations (level5 column) the dataset contains? (★☆☆)\n",
    "\n",
    "Print the names of the populations with a comma as a separator. For example:\n",
    "\n",
    "`> print(populations)`\n",
    "\n",
    "`population1, population2, population3, ...`"
   ]
  },
  {
   "cell_type": "code",
   "execution_count": 11,
   "id": "exciting-accreditation",
   "metadata": {},
   "outputs": [
    {
     "name": "stdout",
     "output_type": "stream",
     "text": [
      " Madrid Capital, Ajalvir, Alcalá de Henares, Alcobendas, Alcorcón, Aldea del Fresno, Algete, Alpedrete, Ambite, Anchuelo, Aranjuez, Arganda del Rey, Arroyomolinos (Madrid), Batres, Becerril de la Sierra, Belmonte de Tajo, Boadilla del Monte, Braojos, Brea de Tajo, Brunete, Buitrago del Lozoya, Bustarviejo, Cabanillas de la Sierra, Cadalso de los Vidrios, Camarma de Esteruelas, Campo Real, Canencia, Carabaña, Casarrubuelos, Cenicientos, Cercedilla, Chapinería, Chinchón, Ciempozuelos, Cobeña, Collado Mediano, Collado Villalba, Colmenar Viejo, Colmenar de Oreja, Colmenar del Arroyo, Colmenarejo, Corpa, Coslada, Cubas de la Sagra, Daganzo de Arriba, El Atazar, El Berrueco, El Boalo - Cerceda – Mataelpino, El Escorial, El Molar (Madrid), El Vellón, El Álamo, Estremera, Fresnedillas de la Oliva, Fresno de Torote, Fresno de Torote - Serracines, Fuenlabrada, Fuente El Saz de Jarama, Fuentidueña de Tajo, Galapagar, Garganta de los Montes, Gargantilla del Lozoya, Gascones, Getafe, Griñón, Guadalix de la Sierra, Guadarrama, Horcajo de la Sierra, Hoyo de Manzanares, Humanes de Madrid, La Cabrera, La Hiruela, Las Rozas de Madrid, Leganés, Loeches, Los Molinos, Los Santos de la Humosa, Lozoya, Lozoyuela-navas-sieteiglesias, Madarcos, Majadahonda, Manzanares El Real, Meco, Mejorada del Campo, Miraflores de la Sierra, Montejo de la Sierra, Moraleja de Enmedio, Moralzarzal, Morata de Tajuña, Móstoles, Navacerrada, Navalafuente, Navalagamella, Navalcarnero, Navarredonda, Navas del Rey, Nuevo Baztán, Orusco de Tajuña, Paracuellos de Jarama, Parla, Patones, Pedrezuela, Pelayos de la Presa, Perales de Tajuña, Pezuela de las Torres, Pinilla del Valle, Pinto, Piñuécar-gandullas, Pozuelo de Alarcón, Pozuelo del Rey, Puentes Viejas, Quijorna, Rascafría, Redueña, Ribatejada, Rivas-vaciamadrid, Robledo de Chavela, Robregordo, San Agustín del Guadalix, San Fernando de Henares, San Lorenzo de El Escorial, San Martín de Valdeiglesias, San Martín de la Vega, San Sebastián de los Reyes, Santa María de la Alameda, Santorcaz, Serranillos del Valle, Sevilla la Nueva, Soto del Real, Talamanca de Jarama, Tielmes, Titulcia, Torrejón de Ardoz, Torrejón de Velasco, Torrejón de la Calzada, Torrelaguna, Torrelodones, Torremocha de Jarama, Torres de la Alameda, Tres Cantos, Valdaracete, Valdeavero, Valdelaguna, Valdemanco, Valdemaqueda, Valdemorillo, Valdemoro, Valdeolmos-Alalpardo, Valdepiélagos, Valdetorres de Jarama, Valdilecha, Valverde de Alcalá, Velilla de San Antonio, Venturada, Villa del Prado, Villaconejos, Villalbilla, Villamanrique de Tajo, Villamanta, Villamantilla, Villanueva de Perales, Villanueva de la Cañada, Villanueva del Pardillo, Villar del Olmo, Villarejo de Salvanés, Villaviciosa de Odón, Villavieja del Lozoya, Zarzalejo, \n"
     ]
    }
   ],
   "source": [
    "import pandas as pd\n",
    "ds = pd.read_csv('assets/real_estate.csv', sep=';')\n",
    "\n",
    "\n",
    "len(ds.groupby(\"level5\"))\n",
    "len(ds[\"level5\"].unique())\n",
    "\n",
    "ds2 = ds.copy()\n",
    "ds2 = ds.groupby(by=['level5']).sum()\n",
    "population_list = list(ds2.index)\n",
    "\n",
    "acum1 = \"\"\n",
    "for i in population_list:\n",
    "    acum1 += f\"{i}, \"\n",
    "\n",
    "print(acum1)"
   ]
  },
  {
   "cell_type": "code",
   "execution_count": 12,
   "id": "17b4b76b",
   "metadata": {},
   "outputs": [
    {
     "name": "stdout",
     "output_type": "stream",
     "text": [
      " Madrid Capital, Ajalvir, Alcalá de Henares, Alcobendas, Alcorcón, Aldea del Fresno, Algete, Alpedrete, Ambite, Anchuelo, Aranjuez, Arganda del Rey, Arroyomolinos (Madrid), Batres, Becerril de la Sierra, Belmonte de Tajo, Boadilla del Monte, Braojos, Brea de Tajo, Brunete, Buitrago del Lozoya, Bustarviejo, Cabanillas de la Sierra, Cadalso de los Vidrios, Camarma de Esteruelas, Campo Real, Canencia, Carabaña, Casarrubuelos, Cenicientos, Cercedilla, Chapinería, Chinchón, Ciempozuelos, Cobeña, Collado Mediano, Collado Villalba, Colmenar Viejo, Colmenar de Oreja, Colmenar del Arroyo, Colmenarejo, Corpa, Coslada, Cubas de la Sagra, Daganzo de Arriba, El Atazar, El Berrueco, El Boalo - Cerceda – Mataelpino, El Escorial, El Molar (Madrid), El Vellón, El Álamo, Estremera, Fresnedillas de la Oliva, Fresno de Torote, Fresno de Torote - Serracines, Fuenlabrada, Fuente El Saz de Jarama, Fuentidueña de Tajo, Galapagar, Garganta de los Montes, Gargantilla del Lozoya, Gascones, Getafe, Griñón, Guadalix de la Sierra, Guadarrama, Horcajo de la Sierra, Hoyo de Manzanares, Humanes de Madrid, La Cabrera, La Hiruela, Las Rozas de Madrid, Leganés, Loeches, Los Molinos, Los Santos de la Humosa, Lozoya, Lozoyuela-navas-sieteiglesias, Madarcos, Majadahonda, Manzanares El Real, Meco, Mejorada del Campo, Miraflores de la Sierra, Montejo de la Sierra, Moraleja de Enmedio, Moralzarzal, Morata de Tajuña, Móstoles, Navacerrada, Navalafuente, Navalagamella, Navalcarnero, Navarredonda, Navas del Rey, Nuevo Baztán, Orusco de Tajuña, Paracuellos de Jarama, Parla, Patones, Pedrezuela, Pelayos de la Presa, Perales de Tajuña, Pezuela de las Torres, Pinilla del Valle, Pinto, Piñuécar-gandullas, Pozuelo de Alarcón, Pozuelo del Rey, Puentes Viejas, Quijorna, Rascafría, Redueña, Ribatejada, Rivas-vaciamadrid, Robledo de Chavela, Robregordo, San Agustín del Guadalix, San Fernando de Henares, San Lorenzo de El Escorial, San Martín de Valdeiglesias, San Martín de la Vega, San Sebastián de los Reyes, Santa María de la Alameda, Santorcaz, Serranillos del Valle, Sevilla la Nueva, Soto del Real, Talamanca de Jarama, Tielmes, Titulcia, Torrejón de Ardoz, Torrejón de Velasco, Torrejón de la Calzada, Torrelaguna, Torrelodones, Torremocha de Jarama, Torres de la Alameda, Tres Cantos, Valdaracete, Valdeavero, Valdelaguna, Valdemanco, Valdemaqueda, Valdemorillo, Valdemoro, Valdeolmos-Alalpardo, Valdepiélagos, Valdetorres de Jarama, Valdilecha, Valverde de Alcalá, Velilla de San Antonio, Venturada, Villa del Prado, Villaconejos, Villalbilla, Villamanrique de Tajo, Villamanta, Villamantilla, Villanueva de Perales, Villanueva de la Cañada, Villanueva del Pardillo, Villar del Olmo, Villarejo de Salvanés, Villaviciosa de Odón, Villavieja del Lozoya, Zarzalejo\n"
     ]
    }
   ],
   "source": [
    "##OPCION2 \n",
    "import pandas as pd\n",
    "import numpy as np\n",
    "ds = pd.read_csv('assets/real_estate.csv', sep=';')\n",
    "\n",
    "ds_agrupado = ds.groupby(\"level5\").sum()\n",
    "level5_list = ds_agrupado.index.tolist()\n",
    "\n",
    "acum = str(level5_list[0])\n",
    "for i in range(1,len(level5_list)):\n",
    "    acum = acum  + \", \" + str(level5_list[i])\n",
    "\n",
    "print(acum)"
   ]
  },
  {
   "attachments": {},
   "cell_type": "markdown",
   "id": "crazy-blame",
   "metadata": {},
   "source": [
    "#### Exercise 05. Does the dataset contain NAs? (★☆☆)\n",
    "\n",
    "Print a boolean value (`True` or `False`) followed by the rows/cols that contains NAs."
   ]
  },
  {
   "cell_type": "code",
   "execution_count": 13,
   "id": "transparent-poetry",
   "metadata": {},
   "outputs": [
    {
     "name": "stdout",
     "output_type": "stream",
     "text": [
      "Unnamed: 0          False\n",
      "id_realEstates      False\n",
      "isNew               False\n",
      "realEstate_name      True\n",
      "phone_realEstate     True\n",
      "url_inmueble        False\n",
      "rooms                True\n",
      "bathrooms            True\n",
      "surface              True\n",
      "price               False\n",
      "date                False\n",
      "description          True\n",
      "address             False\n",
      "country             False\n",
      "level1              False\n",
      "level2              False\n",
      "level3              False\n",
      "level4               True\n",
      "level5              False\n",
      "level6               True\n",
      "level7               True\n",
      "level8               True\n",
      "upperLevel          False\n",
      "countryId           False\n",
      "level1Id            False\n",
      "level2Id            False\n",
      "level3Id            False\n",
      "level4Id            False\n",
      "level5Id            False\n",
      "level6Id            False\n",
      "level7Id            False\n",
      "level8Id            False\n",
      "accuracy            False\n",
      "latitude            False\n",
      "longitude           False\n",
      "zipCode              True\n",
      "customZone           True\n",
      "dtype: bool\n"
     ]
    }
   ],
   "source": [
    "import pandas as pd\n",
    "import numpy as np\n",
    "ds = pd.read_csv('assets/real_estate.csv', sep=';')\n",
    "\n",
    "print( ds.isnull().any() )"
   ]
  },
  {
   "attachments": {},
   "cell_type": "markdown",
   "id": "italic-hydrogen",
   "metadata": {},
   "source": [
    "#### Exercise 06. Delete the NAs of the dataset, if applicable (★★☆)\n",
    "\n",
    "Print a comparison between the dimensions of the original DataFrame versus the DataFrame after the deletions."
   ]
  },
  {
   "cell_type": "code",
   "execution_count": 14,
   "id": "administrative-roads",
   "metadata": {},
   "outputs": [
    {
     "name": "stdout",
     "output_type": "stream",
     "text": [
      "Unnamed: 0          0.000000\n",
      "id_realEstates      0.000000\n",
      "isNew               0.000000\n",
      "realEstate_name     0.000652\n",
      "phone_realEstate    0.051777\n",
      "url_inmueble        0.000000\n",
      "rooms               0.023019\n",
      "bathrooms           0.022498\n",
      "surface             0.081513\n",
      "price               0.000000\n",
      "date                0.000000\n",
      "description         0.009260\n",
      "address             0.000000\n",
      "country             0.000000\n",
      "level1              0.000000\n",
      "level2              0.000000\n",
      "level3              0.000000\n",
      "level4              0.433192\n",
      "level5              0.000000\n",
      "level6              0.953831\n",
      "level7              0.148484\n",
      "level8              0.559439\n",
      "upperLevel          0.000000\n",
      "countryId           0.000000\n",
      "level1Id            0.000000\n",
      "level2Id            0.000000\n",
      "level3Id            0.000000\n",
      "level4Id            0.000000\n",
      "level5Id            0.000000\n",
      "level6Id            0.000000\n",
      "level7Id            0.000000\n",
      "level8Id            0.000000\n",
      "accuracy            0.000000\n",
      "latitude            0.000000\n",
      "longitude           0.000000\n",
      "zipCode             1.000000\n",
      "customZone          1.000000\n",
      "dtype: float64\n",
      "Index(['Unnamed: 0', 'id_realEstates', 'isNew', 'realEstate_name',\n",
      "       'phone_realEstate', 'url_inmueble', 'rooms', 'bathrooms', 'surface',\n",
      "       'price', 'date', 'description', 'address', 'country', 'level1',\n",
      "       'level2', 'level3', 'level4', 'level5', 'level7', 'level8',\n",
      "       'upperLevel', 'countryId', 'level1Id', 'level2Id', 'level3Id',\n",
      "       'level4Id', 'level5Id', 'level6Id', 'level7Id', 'level8Id', 'accuracy',\n",
      "       'latitude', 'longitude'],\n",
      "      dtype='object')\n"
     ]
    }
   ],
   "source": [
    "import pandas as pd\n",
    "import numpy as np\n",
    "\n",
    "ds = pd.read_csv('assets/real_estate.csv', sep=';')\n",
    "\n",
    "##OPCION1 = RECHAZADA\n",
    "    ##Eliminamos cualquier linea que contenga na con .dropna()\n",
    "#ds_filtrado2 = ds.copy().dropna()\n",
    "#print(ds_filtrado2).shape              #se borra la base de datos\n",
    "\n",
    "##OPCION 2\n",
    "print( ds.isnull().sum() / len(ds)   )              #Calculamos el porcentaje de Nulos por columna\n",
    "\n",
    "ds = ds.copy().drop(columns = ['level6', 'zipCode', 'customZone']) #eliminas level6, zipCode, customZone\n",
    "print(ds.columns)"
   ]
  },
  {
   "attachments": {},
   "cell_type": "markdown",
   "id": "middle-china",
   "metadata": {},
   "source": [
    "#### Exercise 07. Which is the mean of prices in the population (level5 column) of \"Arroyomolinos (Madrid)\"? (★★☆)\n",
    "\n",
    "Print the obtained value."
   ]
  },
  {
   "cell_type": "code",
   "execution_count": 15,
   "id": "nuclear-belief",
   "metadata": {},
   "outputs": [
    {
     "name": "stdout",
     "output_type": "stream",
     "text": [
      "294541.59854014596\n"
     ]
    }
   ],
   "source": [
    "print(ds[ds['level5'] == 'Arroyomolinos (Madrid)']['price'].mean())"
   ]
  },
  {
   "attachments": {},
   "cell_type": "markdown",
   "id": "concerned-radical",
   "metadata": {},
   "source": [
    "#### Exercise 08. Plot the histogram of prices for the population (level5 column) of \"Arroyomolinos (Madrid)\" and explain what you observe (★★☆)\n",
    "\n",
    "Print the histogram of the prices and write in the Markdown cell a brief analysis about the plot."
   ]
  },
  {
   "cell_type": "code",
   "execution_count": 16,
   "id": "sudden-message",
   "metadata": {},
   "outputs": [
    {
     "data": {
      "image/png": "[encoded data removed]",
      "text/plain": [
       "<Figure size 640x480 with 1 Axes>"
      ]
     },
     "metadata": {},
     "output_type": "display_data"
    }
   ],
   "source": [
    "import matplotlib.pyplot as plt\n",
    "data = ds[ds['level5'] == 'Arroyomolinos (Madrid)']['price']\n",
    "plt.hist(data, bins = 30, alpha = 0.7)\n",
    "plt.title(\"Histogram - CASAS segun PRECIO ARROYOMOLINOS\")\n",
    "plt.show()"
   ]
  },
  {
   "attachments": {},
   "cell_type": "markdown",
   "id": "impressed-combination",
   "metadata": {},
   "source": [
    "Explicacion: El eje x representa los precios y el eje y la cantidad de casas en Arroyomolinos (Madrid). Por lo que esta grafica nos representa la cantidad de casas por precios. Vemos que gran parte de la casas en Arroyomolinos (Madrid) tienen su precio entre 150,000 y 450,000. Notamos un pico con 20 casas con un precio aproximado de 280,000 (esto es coherente con la media caluclada en ejercicio 7)"
   ]
  },
  {
   "attachments": {},
   "cell_type": "markdown",
   "id": "actual-edinburgh",
   "metadata": {},
   "source": [
    "#### Exercise 09. Are the average prices of \"Valdemorillo\" and \"Galapagar\" the same? (★★☆)\n",
    "\n",
    "Print both average prices and then write a conclusion about them."
   ]
  },
  {
   "cell_type": "code",
   "execution_count": 17,
   "id": "numeric-commerce",
   "metadata": {},
   "outputs": [
    {
     "name": "stdout",
     "output_type": "stream",
     "text": [
      "average price VALDEMORILLO = 363860.2931034483\n",
      "average price GALAPAGAR = 360063.20238095237\n",
      "1.0545622816736877\n"
     ]
    }
   ],
   "source": [
    "#print(ds[ds['level5'] == 'Valdemorillo']['price'].mean())\n",
    "print(f\"average price VALDEMORILLO = {ds[ds['level5'] == 'Valdemorillo']['price'].mean()}\")\n",
    "print(f\"average price GALAPAGAR = {ds[ds['level5'] == 'Galapagar']['price'].mean()}\")\n",
    "\n",
    "print((ds[ds['level5'] == 'Valdemorillo']['price'].mean() / ds[ds['level5'] == 'Galapagar']['price'].mean() -1) *100)"
   ]
  },
  {
   "cell_type": "markdown",
   "id": "d3c6c188",
   "metadata": {},
   "source": [
    "OBSERVACION:\n",
    "\n",
    "1) Las casas en Valdemorillo tienen un precio promedio de $363,860\n",
    "2) Las casas en Galapar tienen un precio promedio de $360,063\n",
    "3) El premedio de precio de las casas varia solamente en un 1% entre Valderillo y Galapar\n",
    "\n",
    "CONCLUSION:\n",
    "\n",
    "- Los precios promedios de las casas en Valedemorillo y Galapar son practicamente iguales."
   ]
  },
  {
   "attachments": {},
   "cell_type": "markdown",
   "id": "lonely-article",
   "metadata": {},
   "source": [
    "#### Exercise 10. Are the average prices per square meter (price/m2) of \"Valdemorillo\" and \"Galapagar\" the same? (★★☆)\n",
    "\n",
    "Print both average prices and then write a conclusion about it.\n",
    "\n",
    "Hint: Create a new column called `pps` (price per square meter) and then analyze the values."
   ]
  },
  {
   "cell_type": "code",
   "execution_count": 18,
   "id": "hourly-globe",
   "metadata": {},
   "outputs": [
    {
     "name": "stdout",
     "output_type": "stream",
     "text": [
      "1317.9502109024986\n",
      "1606.3240303094024\n"
     ]
    },
    {
     "data": {
      "text/plain": [
       "np.float64(0.21880479021239552)"
      ]
     },
     "execution_count": 18,
     "metadata": {},
     "output_type": "execute_result"
    }
   ],
   "source": [
    "ds['pps'] = ds['price'] / ds['surface']\n",
    "\n",
    "print(ds[ds['level5'] == 'Valdemorillo']['pps'].mean())\n",
    "print(ds[ds['level5'] == 'Galapagar']['pps'].mean())\n",
    "ds[ds['level5'] == 'Galapagar']['pps'].mean() / ds[ds['level5'] == 'Valdemorillo']['pps'].mean() -1\n",
    "\n",
    "#CONCLUSION: \n",
    "#A PESAR DE TENER PRECIO PROMEDIO CASI IGUAL, GALAPAR TIENE UN PRECIO "
   ]
  },
  {
   "cell_type": "markdown",
   "id": "52ca0f30",
   "metadata": {},
   "source": [
    "OBSERVACION:\n",
    "\n",
    "1. Las casas en Valdemorillo tienen un precio por metro cuadrado promedio de $1317.95\n",
    "2. Las casas en Galapar tienen un precio promedio de $1606.32\n",
    "3. El promedio de precio por metro cuadrado de las casas en Galapar es cerca de un 22% mayor que en Valdemorillo\n",
    "\n",
    "CONCLUSION:\n",
    "\n",
    "- A pesar de que el precio promedio de las casas en Valedemorillo y Galapar es practicamente iguales : El precio por metro cuadrado es mayor en Galapar\n",
    "Por lo tanto, podemos decir que seguramente las casas en Galapar son mas chicas que en Valdemorillo.\n",
    "\n",
    "NB: solo por curiosidad, se verifica conclusion a continuacion."
   ]
  },
  {
   "cell_type": "code",
   "execution_count": 19,
   "id": "b0fd61c6",
   "metadata": {},
   "outputs": [
    {
     "name": "stdout",
     "output_type": "stream",
     "text": [
      "350.0188679245283\n",
      "305.52\n"
     ]
    }
   ],
   "source": [
    "print(ds[ds['level5'] == 'Valdemorillo']['surface'].mean())\n",
    "print(ds[ds['level5'] == 'Galapagar']['surface'].mean())\n",
    "\n",
    "#LA SUPOSICION ANTERIOR ES CORRECTA: CASAS EN GALAPAR MAS CHICAS "
   ]
  },
  {
   "attachments": {},
   "cell_type": "markdown",
   "id": "pleasant-invite",
   "metadata": {},
   "source": [
    "#### Exercise 11. Analyze the relation between the surface and the price of the houses (★★☆)\n",
    "\n",
    "Hint: You can make a `scatter plot`, then write a conclusion about it."
   ]
  },
  {
   "cell_type": "code",
   "execution_count": 20,
   "id": "common-drilling",
   "metadata": {},
   "outputs": [
    {
     "data": {
      "image/png": "[encoded data removed]",
      "text/plain": [
       "<Figure size 1000x500 with 1 Axes>"
      ]
     },
     "metadata": {},
     "output_type": "display_data"
    }
   ],
   "source": [
    "y = ds[ds['level5'] == 'Valdemorillo']['price']\n",
    "x = ds[ds['level5'] == 'Valdemorillo']['surface']\n",
    "\n",
    "plt.figure(figsize = (10, 5))\n",
    "plt.scatter(x, y, label = \"Sen X\")\n",
    "\n",
    "plt.title(\"Scatter plot\")\n",
    "plt.xlim(0,500)\n",
    "plt.ylim(0,800000)\n",
    "plt.legend()\n",
    "plt.show()"
   ]
  },
  {
   "attachments": {},
   "cell_type": "markdown",
   "id": "ahead-liquid",
   "metadata": {},
   "source": [
    "COMENTARIO: Notamos que si hay una relacion entre ambos variables. en efecto, entre mayor superficie, mayor precio"
   ]
  },
  {
   "attachments": {},
   "cell_type": "markdown",
   "id": "coordinate-sunrise",
   "metadata": {},
   "source": [
    "#### Exercise 12. How many real estate agencies does the dataset contain? (★★☆)\n",
    "\n",
    "Print the obtained value."
   ]
  },
  {
   "cell_type": "code",
   "execution_count": 21,
   "id": "valid-honolulu",
   "metadata": {},
   "outputs": [
    {
     "name": "stdout",
     "output_type": "stream",
     "text": [
      "['ferrari 57 inmobiliaria' 'tecnocasa fuenlabrada ferrocarril'\n",
      " 'look find boadilla' ... 'redpiso villaverde bajo san cristobal'\n",
      " 'gestion comercial' 'nieves']\n"
     ]
    },
    {
     "data": {
      "text/plain": [
       "1822"
      ]
     },
     "execution_count": 21,
     "metadata": {},
     "output_type": "execute_result"
    }
   ],
   "source": [
    "print(ds['realEstate_name'].unique())\n",
    "\n",
    "len(ds['realEstate_name'].unique()) # 1822 agencia"
   ]
  },
  {
   "attachments": {},
   "cell_type": "markdown",
   "id": "binding-ebony",
   "metadata": {},
   "source": [
    "#### Exercise 13. Which is the population (level5 column) that contains the most houses? (★★☆)\n",
    "\n",
    "Print both the population and the number of houses."
   ]
  },
  {
   "cell_type": "code",
   "execution_count": 22,
   "id": "static-perry",
   "metadata": {},
   "outputs": [
    {
     "name": "stdout",
     "output_type": "stream",
     "text": [
      "La localidad con mas casas es  Madrid Capital que contiene 6643 casas\n"
     ]
    }
   ],
   "source": [
    "a = ds['level5'].value_counts().max()\n",
    "b = ds['level5'].value_counts().idxmax()\n",
    "print(f'La localidad con mas casas es {b} que contiene {a} casas')"
   ]
  },
  {
   "attachments": {},
   "cell_type": "markdown",
   "id": "entire-classification",
   "metadata": {},
   "source": [
    "#### Exercise 14. Now let's work with the \"south belt\" of Madrid. Make a subset of the original DataFrame that contains the following populations (level5 column): \"Fuenlabrada\", \"Leganés\", \"Getafe\", \"Alcorcón\" (★★☆)\n",
    "\n",
    "Hint: Filter the original DataFrame using the column `level5` and the function `isin`."
   ]
  },
  {
   "cell_type": "code",
   "execution_count": 23,
   "id": "binary-input",
   "metadata": {},
   "outputs": [
    {
     "data": {
      "text/plain": [
       "array(['Fuenlabrada', 'Alcorcón', 'Leganés', 'Getafe'], dtype=object)"
      ]
     },
     "execution_count": 23,
     "metadata": {},
     "output_type": "execute_result"
    }
   ],
   "source": [
    "df = ds.copy()\n",
    "[\"Fuenlabrada\", \"Leganés\", \"Getafe\", \"Alcorcón\"]\n",
    "df = df[ df['level5'].isin([\"Fuenlabrada\", \"Leganés\", \"Getafe\", \"Alcorcón\"]) ]\n",
    "df['level5'].unique()"
   ]
  },
  {
   "attachments": {},
   "cell_type": "markdown",
   "id": "severe-fisher",
   "metadata": {},
   "source": [
    "#### Exercise 15. Make a bar plot of the median of the prices and explain what you observe (you must use the subset obtained in Exercise 14) (★★★)\n",
    "\n",
    "Print the bar of the median of the prices and write in the Markdown cell a brief analysis about the plot."
   ]
  },
  {
   "cell_type": "code",
   "execution_count": 24,
   "id": "lyric-bunch",
   "metadata": {},
   "outputs": [
    {
     "data": {
      "image/png": "[encoded data removed]",
      "text/plain": [
       "<Figure size 640x480 with 1 Axes>"
      ]
     },
     "metadata": {},
     "output_type": "display_data"
    }
   ],
   "source": [
    "df.groupby(by='level5')['price'].median().plot.bar()\n",
    "plt.xlabel('Localidades')\n",
    "plt.ylabel('Precio mediano')\n",
    "plt.title('Precio mediano por Localidades')\n",
    "plt.show()"
   ]
  },
  {
   "attachments": {},
   "cell_type": "markdown",
   "id": "sublime-newspaper",
   "metadata": {},
   "source": [
    "COMENTARIO:\n",
    "\n",
    "- Esta grafica representa el precio mediano por localidades\n",
    "- Vemos que GETAFE es la localidad con mayor precio mediano y FUENLABRADA la localidad con menor precio mediano\n",
    "- Tambien vemos que fuera de GETAFE los precios medianos de las localidades varian entre 150,000 y 200,000 usd"
   ]
  },
  {
   "attachments": {},
   "cell_type": "markdown",
   "id": "speaking-diamond",
   "metadata": {},
   "source": [
    "#### Exercise 16. Calculate the sample mean and variance of the variables: price, rooms, surface area and bathrooms (you must use the subset obtained in Exercise 14) (★★★)\n",
    "\n",
    "Print both values for each variable."
   ]
  },
  {
   "cell_type": "code",
   "execution_count": 25,
   "id": "random-feeling",
   "metadata": {},
   "outputs": [
    {
     "data": {
      "text/html": [
       "<div>\n",
       "<style scoped>\n",
       "    .dataframe tbody tr th:only-of-type {\n",
       "        vertical-align: middle;\n",
       "    }\n",
       "\n",
       "    .dataframe tbody tr th {\n",
       "        vertical-align: top;\n",
       "    }\n",
       "\n",
       "    .dataframe thead tr th {\n",
       "        text-align: left;\n",
       "    }\n",
       "\n",
       "    .dataframe thead tr:last-of-type th {\n",
       "        text-align: right;\n",
       "    }\n",
       "</style>\n",
       "<table border=\"1\" class=\"dataframe\">\n",
       "  <thead>\n",
       "    <tr>\n",
       "      <th></th>\n",
       "      <th colspan=\"2\" halign=\"left\">price</th>\n",
       "      <th colspan=\"2\" halign=\"left\">rooms</th>\n",
       "      <th colspan=\"2\" halign=\"left\">surface</th>\n",
       "      <th colspan=\"2\" halign=\"left\">bathrooms</th>\n",
       "    </tr>\n",
       "    <tr>\n",
       "      <th></th>\n",
       "      <th>mean</th>\n",
       "      <th>var</th>\n",
       "      <th>mean</th>\n",
       "      <th>var</th>\n",
       "      <th>mean</th>\n",
       "      <th>var</th>\n",
       "      <th>mean</th>\n",
       "      <th>var</th>\n",
       "    </tr>\n",
       "    <tr>\n",
       "      <th>level5</th>\n",
       "      <th></th>\n",
       "      <th></th>\n",
       "      <th></th>\n",
       "      <th></th>\n",
       "      <th></th>\n",
       "      <th></th>\n",
       "      <th></th>\n",
       "      <th></th>\n",
       "    </tr>\n",
       "  </thead>\n",
       "  <tbody>\n",
       "    <tr>\n",
       "      <th>Alcorcón</th>\n",
       "      <td>230071.052632</td>\n",
       "      <td>1.594783e+10</td>\n",
       "      <td>2.914894</td>\n",
       "      <td>0.933895</td>\n",
       "      <td>105.913295</td>\n",
       "      <td>4244.323834</td>\n",
       "      <td>1.623656</td>\n",
       "      <td>0.592735</td>\n",
       "    </tr>\n",
       "    <tr>\n",
       "      <th>Fuenlabrada</th>\n",
       "      <td>177198.021459</td>\n",
       "      <td>4.701021e+09</td>\n",
       "      <td>3.025974</td>\n",
       "      <td>0.355844</td>\n",
       "      <td>103.624365</td>\n",
       "      <td>2264.643893</td>\n",
       "      <td>1.445415</td>\n",
       "      <td>0.353367</td>\n",
       "    </tr>\n",
       "    <tr>\n",
       "      <th>Getafe</th>\n",
       "      <td>265040.500000</td>\n",
       "      <td>2.098267e+10</td>\n",
       "      <td>3.151724</td>\n",
       "      <td>0.772748</td>\n",
       "      <td>126.896266</td>\n",
       "      <td>5828.110028</td>\n",
       "      <td>1.865052</td>\n",
       "      <td>0.658809</td>\n",
       "    </tr>\n",
       "    <tr>\n",
       "      <th>Leganés</th>\n",
       "      <td>208682.010309</td>\n",
       "      <td>1.191394e+10</td>\n",
       "      <td>2.906736</td>\n",
       "      <td>0.824590</td>\n",
       "      <td>105.852273</td>\n",
       "      <td>3987.475195</td>\n",
       "      <td>1.518135</td>\n",
       "      <td>0.553055</td>\n",
       "    </tr>\n",
       "  </tbody>\n",
       "</table>\n",
       "</div>"
      ],
      "text/plain": [
       "                     price                   rooms               surface  \\\n",
       "                      mean           var      mean       var        mean   \n",
       "level5                                                                     \n",
       "Alcorcón     230071.052632  1.594783e+10  2.914894  0.933895  105.913295   \n",
       "Fuenlabrada  177198.021459  4.701021e+09  3.025974  0.355844  103.624365   \n",
       "Getafe       265040.500000  2.098267e+10  3.151724  0.772748  126.896266   \n",
       "Leganés      208682.010309  1.191394e+10  2.906736  0.824590  105.852273   \n",
       "\n",
       "                         bathrooms            \n",
       "                     var      mean       var  \n",
       "level5                                        \n",
       "Alcorcón     4244.323834  1.623656  0.592735  \n",
       "Fuenlabrada  2264.643893  1.445415  0.353367  \n",
       "Getafe       5828.110028  1.865052  0.658809  \n",
       "Leganés      3987.475195  1.518135  0.553055  "
      ]
     },
     "execution_count": 25,
     "metadata": {},
     "output_type": "execute_result"
    }
   ],
   "source": [
    "df.groupby(['level5']).agg({'price':['mean', 'var'],'rooms':['mean', 'var'],'surface':['mean', 'var'],'bathrooms':['mean', 'var']})"
   ]
  },
  {
   "attachments": {},
   "cell_type": "markdown",
   "id": "revolutionary-matrix",
   "metadata": {},
   "source": [
    "#### Exercise 17. What is the most expensive house in each population? You must use the subset obtained in Exercise 14 (★★☆)\n",
    "\n",
    "Print both the address and the price of the selected house of each population. You can print a DataFrame or a single line for each population."
   ]
  },
  {
   "cell_type": "code",
   "execution_count": 26,
   "id": "fifteen-browse",
   "metadata": {},
   "outputs": [
    {
     "data": {
      "text/html": [
       "<div>\n",
       "<style scoped>\n",
       "    .dataframe tbody tr th:only-of-type {\n",
       "        vertical-align: middle;\n",
       "    }\n",
       "\n",
       "    .dataframe tbody tr th {\n",
       "        vertical-align: top;\n",
       "    }\n",
       "\n",
       "    .dataframe thead th {\n",
       "        text-align: right;\n",
       "    }\n",
       "</style>\n",
       "<table border=\"1\" class=\"dataframe\">\n",
       "  <thead>\n",
       "    <tr style=\"text-align: right;\">\n",
       "      <th></th>\n",
       "      <th>level5</th>\n",
       "      <th>realEstate_name</th>\n",
       "      <th>price</th>\n",
       "    </tr>\n",
       "  </thead>\n",
       "  <tbody>\n",
       "    <tr>\n",
       "      <th>5585</th>\n",
       "      <td>Alcorcón</td>\n",
       "      <td>100 home red inmobiliaria</td>\n",
       "      <td>950000</td>\n",
       "    </tr>\n",
       "    <tr>\n",
       "      <th>11561</th>\n",
       "      <td>Fuenlabrada</td>\n",
       "      <td>unna madrid</td>\n",
       "      <td>490000</td>\n",
       "    </tr>\n",
       "    <tr>\n",
       "      <th>2881</th>\n",
       "      <td>Getafe</td>\n",
       "      <td>unna grupo inmobiliario</td>\n",
       "      <td>1050000</td>\n",
       "    </tr>\n",
       "    <tr>\n",
       "      <th>10412</th>\n",
       "      <td>Leganés</td>\n",
       "      <td>bafre gestion y servicios inmobiliarios</td>\n",
       "      <td>650000</td>\n",
       "    </tr>\n",
       "  </tbody>\n",
       "</table>\n",
       "</div>"
      ],
      "text/plain": [
       "            level5                          realEstate_name    price\n",
       "5585      Alcorcón                100 home red inmobiliaria   950000\n",
       "11561  Fuenlabrada                              unna madrid   490000\n",
       "2881        Getafe                  unna grupo inmobiliario  1050000\n",
       "10412      Leganés  bafre gestion y servicios inmobiliarios   650000"
      ]
     },
     "execution_count": 26,
     "metadata": {},
     "output_type": "execute_result"
    }
   ],
   "source": [
    "ids = df.groupby(['level5'])['price'].idxmax()\n",
    "df.loc[ids,['level5','realEstate_name','price']]"
   ]
  },
  {
   "attachments": {},
   "cell_type": "markdown",
   "id": "activated-knight",
   "metadata": {},
   "source": [
    "#### Exercise 18. Normalize the variable of prices for each population and plot the 4 histograms in the same plot (you must use the subset obtained in Exercise 14) (★★★)\n",
    "\n",
    "For the normalization method, you can use the one you consider; there is not a single correct answer to this question. Print the plot and write in the Markdown cell a brief analysis about the plot.\n",
    "\n",
    "Hint: You can help yourself by reviewing the *multihist* demo of Matplotlib."
   ]
  },
  {
   "cell_type": "code",
   "execution_count": 27,
   "id": "civic-meditation",
   "metadata": {},
   "outputs": [
    {
     "data": {
      "image/png": "[encoded data removed]",
      "text/plain": [
       "<Figure size 640x480 with 1 Axes>"
      ]
     },
     "metadata": {},
     "output_type": "display_data"
    }
   ],
   "source": [
    "#def func_normalizar(series):\n",
    "#    mean = series.mean()\n",
    "#    std = series.std()\n",
    "#    return (series - mean) / std\n",
    "\n",
    "df['precio_Normalizado'] = (df['price'] - df['price'].mean()) / df['price'].std() \n",
    "#df['precio_Normalizado'] = df['price'].apply(func_normalizar)\n",
    "\n",
    "data1 = df[df['level5']== 'Alcorcón']['precio_Normalizado']\n",
    "data2 = df[df['level5']== 'Fuenlabrada']['precio_Normalizado']\n",
    "data3 = df[df['level5']== 'Getafe']['precio_Normalizado']\n",
    "data4 = df[df['level5']== 'Leganés']['precio_Normalizado']\n",
    "plt.hist(data1,color='green')\n",
    "plt.hist(data2,color='red')\n",
    "plt.hist(data3,color='yellow')\n",
    "plt.hist(data4,color='blue')\n",
    "\n",
    "plt.title(\"Histograma - Precios Normalizados\")\n",
    "plt.legend(['Alcorcón','Fuenlabrada','Getafe','Leganés'])\n",
    "plt.show()"
   ]
  },
  {
   "attachments": {},
   "cell_type": "markdown",
   "id": "patent-jonathan",
   "metadata": {},
   "source": [
    "#### Exercise 19. What can you say about the price per square meter (price/m2) between the towns of \"Getafe\" and \"Alcorcón\"? You must use the subset obtained in Exercise 14 (★★☆)\n",
    "\n",
    "Hint: Create a new column called `pps` (price per square meter) and then analyze the values."
   ]
  },
  {
   "cell_type": "code",
   "execution_count": 28,
   "id": "initial-liverpool",
   "metadata": {},
   "outputs": [
    {
     "data": {
      "text/html": [
       "<div>\n",
       "<style scoped>\n",
       "    .dataframe tbody tr th:only-of-type {\n",
       "        vertical-align: middle;\n",
       "    }\n",
       "\n",
       "    .dataframe tbody tr th {\n",
       "        vertical-align: top;\n",
       "    }\n",
       "\n",
       "    .dataframe thead th {\n",
       "        text-align: right;\n",
       "    }\n",
       "</style>\n",
       "<table border=\"1\" class=\"dataframe\">\n",
       "  <thead>\n",
       "    <tr style=\"text-align: right;\">\n",
       "      <th></th>\n",
       "      <th>count</th>\n",
       "      <th>mean</th>\n",
       "      <th>std</th>\n",
       "      <th>min</th>\n",
       "      <th>25%</th>\n",
       "      <th>50%</th>\n",
       "      <th>75%</th>\n",
       "      <th>max</th>\n",
       "    </tr>\n",
       "    <tr>\n",
       "      <th>level5</th>\n",
       "      <th></th>\n",
       "      <th></th>\n",
       "      <th></th>\n",
       "      <th></th>\n",
       "      <th></th>\n",
       "      <th></th>\n",
       "      <th></th>\n",
       "      <th></th>\n",
       "    </tr>\n",
       "  </thead>\n",
       "  <tbody>\n",
       "    <tr>\n",
       "      <th>Alcorcón</th>\n",
       "      <td>173.0</td>\n",
       "      <td>2239.302480</td>\n",
       "      <td>539.951527</td>\n",
       "      <td>604.761905</td>\n",
       "      <td>1904.081633</td>\n",
       "      <td>2207.792208</td>\n",
       "      <td>2472.727273</td>\n",
       "      <td>3698.159509</td>\n",
       "    </tr>\n",
       "    <tr>\n",
       "      <th>Fuenlabrada</th>\n",
       "      <td>197.0</td>\n",
       "      <td>1796.729220</td>\n",
       "      <td>404.427865</td>\n",
       "      <td>1034.883721</td>\n",
       "      <td>1550.000000</td>\n",
       "      <td>1734.693878</td>\n",
       "      <td>2000.000000</td>\n",
       "      <td>3917.525773</td>\n",
       "    </tr>\n",
       "    <tr>\n",
       "      <th>Getafe</th>\n",
       "      <td>229.0</td>\n",
       "      <td>2174.593462</td>\n",
       "      <td>585.532018</td>\n",
       "      <td>1196.666667</td>\n",
       "      <td>1720.454545</td>\n",
       "      <td>2060.606061</td>\n",
       "      <td>2643.243243</td>\n",
       "      <td>3827.160494</td>\n",
       "    </tr>\n",
       "    <tr>\n",
       "      <th>Leganés</th>\n",
       "      <td>176.0</td>\n",
       "      <td>2047.503268</td>\n",
       "      <td>474.542578</td>\n",
       "      <td>1000.000000</td>\n",
       "      <td>1671.641791</td>\n",
       "      <td>1966.020343</td>\n",
       "      <td>2317.028986</td>\n",
       "      <td>3513.513514</td>\n",
       "    </tr>\n",
       "  </tbody>\n",
       "</table>\n",
       "</div>"
      ],
      "text/plain": [
       "             count         mean         std          min          25%  \\\n",
       "level5                                                                  \n",
       "Alcorcón     173.0  2239.302480  539.951527   604.761905  1904.081633   \n",
       "Fuenlabrada  197.0  1796.729220  404.427865  1034.883721  1550.000000   \n",
       "Getafe       229.0  2174.593462  585.532018  1196.666667  1720.454545   \n",
       "Leganés      176.0  2047.503268  474.542578  1000.000000  1671.641791   \n",
       "\n",
       "                     50%          75%          max  \n",
       "level5                                              \n",
       "Alcorcón     2207.792208  2472.727273  3698.159509  \n",
       "Fuenlabrada  1734.693878  2000.000000  3917.525773  \n",
       "Getafe       2060.606061  2643.243243  3827.160494  \n",
       "Leganés      1966.020343  2317.028986  3513.513514  "
      ]
     },
     "execution_count": 28,
     "metadata": {},
     "output_type": "execute_result"
    }
   ],
   "source": [
    "df['pps2'] = df['price'] / df['surface']\n",
    "df = df[df['price']>0]                            #filtramos los precios nulos\n",
    "df.groupby(['level5'])['pps2'].describe()"
   ]
  },
  {
   "cell_type": "markdown",
   "id": "e561ae44",
   "metadata": {},
   "source": [
    "OBSERVACIONES:\n",
    "\n",
    "- ALCORCON tiene un precio promedio por metro cuadrado un poco mayor a GETAFE\n",
    "- Los precios por metro cuadrado de GETAFE son un poco mas exparsidos que los de ALCORCON\n",
    "- En ALCORCON se puede conseguir una casa desde $604/m2 mientras que en GETAFE desde casi el doble\n",
    "\n",
    "CONCLUSION:\n",
    "\n",
    "- Podemos decir que en cuanto a precio por metro cuadrado: ALCORCON y GETAFE son muy similares, con la diferencia que en ALCORCON se puede conseguir vivienda desde un presupuesto mucho menor al de GETAFE"
   ]
  },
  {
   "attachments": {},
   "cell_type": "markdown",
   "id": "enhanced-moscow",
   "metadata": {},
   "source": [
    "#### Exercise 20. Make the same plot for 4 different populations (level5 column) and rearrange them on the same graph. You must use the subset obtained in Exercise 14 (★★☆)\n",
    " \n",
    "Hint: Make a scatter plot of each population using subplots."
   ]
  },
  {
   "cell_type": "code",
   "execution_count": 29,
   "id": "accepting-airfare",
   "metadata": {},
   "outputs": [
    {
     "data": {
      "image/png": "[encoded data removed]",
      "text/plain": [
       "<Figure size 1200x800 with 4 Axes>"
      ]
     },
     "metadata": {},
     "output_type": "display_data"
    }
   ],
   "source": [
    "data1 = df[df['level5']== 'Alcorcón']['pps']\n",
    "data2 = df[df['level5']== 'Fuenlabrada']['pps']\n",
    "data3 = df[df['level5']== 'Getafe']['pps']\n",
    "data4 = df[df['level5']== 'Leganés']['pps']\n",
    "\n",
    "fig, axes = plt.subplots(2, 2, figsize=(12, 8))\n",
    "fig.subplots_adjust(hspace=0.5)\n",
    "\n",
    "axes[0, 0].hist(data1,color='green')\n",
    "axes[0, 0].legend(['Alcorcón'])\n",
    "\n",
    "axes[0, 0].set_title(\"Histograma - Pps Alcorcon\")\n",
    "\n",
    "axes[1, 0].hist(data2,color='red')\n",
    "axes[1, 0].legend(['Fuenlabrada'])\n",
    "axes[1, 0].set_title(\"Histograma - Pps Fuenlabrada\")\n",
    "\n",
    "axes[0, 1].hist(data3,color='yellow')\n",
    "axes[0, 1].legend(['Getafe'])\n",
    "axes[0, 1].set_title(\"Histograma - Pps Getafe\")\n",
    "\n",
    "axes[1, 1].hist(data4,color='blue')\n",
    "axes[1, 1].legend(['Leganés'])\n",
    "axes[1, 1].set_title(\"Histograma - Pps Leganes\")\n",
    "\n",
    "plt.show()"
   ]
  },
  {
   "cell_type": "code",
   "execution_count": 30,
   "id": "3e728932",
   "metadata": {},
   "outputs": [
    {
     "data": {
      "image/png": "[encoded data removed]",
      "text/plain": [
       "<Figure size 640x480 with 1 Axes>"
      ]
     },
     "metadata": {},
     "output_type": "display_data"
    }
   ],
   "source": [
    "data1 = df[df['level5']== 'Alcorcón']['pps']\n",
    "data2 = df[df['level5']== 'Fuenlabrada']['pps']\n",
    "data3 = df[df['level5']== 'Getafe']['pps']\n",
    "data4 = df[df['level5']== 'Leganés']['pps']\n",
    "\n",
    "plt.hist(data1,color='green')\n",
    "plt.hist(data2,color='red')\n",
    "plt.hist(data3,color='yellow')\n",
    "plt.hist(data4,color='blue')\n",
    "\n",
    "plt.title(\"Histograma - Pps\")\n",
    "plt.legend(['Alcorcón','Fuenlabrada','Getafe','Leganés'])\n",
    "plt.show()"
   ]
  },
  {
   "attachments": {},
   "cell_type": "markdown",
   "id": "blocked-effects",
   "metadata": {},
   "source": [
    "#### Exercise 21. Make a plot of the coordinates (latitude and longitude columns) of the south belt of Madrid by color of each population (you must use the subset obtained in Exercise 14) (★★★★)\n",
    "\n",
    "Execute the following cell, and then start coding in the next one. You must implement a simple code that transforms the coordinates columns in a Python dictionary (add more information if needed) and then add it to the map"
   ]
  },
  {
   "cell_type": "code",
   "execution_count": 31,
   "id": "a82ce5f7",
   "metadata": {},
   "outputs": [
    {
     "data": {
      "application/vnd.jupyter.widget-view+json": {
       "model_id": "cade87f7e4154bfbb7cd21e3dda2df69",
       "version_major": 2,
       "version_minor": 0
      },
      "text/plain": [
       "Map(center=[60, -2.2], controls=(ZoomControl(options=['position', 'zoom_in_text', 'zoom_in_title', 'zoom_out_t…"
      ]
     },
     "execution_count": 31,
     "metadata": {},
     "output_type": "execute_result"
    }
   ],
   "source": [
    "from ipyleaflet import Map, basemaps \n",
    "basemap=basemaps.OpenStreetMap.Mapnik \n",
    "\n",
    "# Map centered on (60 degrees latitude and -2.2 degrees longitude)\n",
    "# Latitude, longitude\n",
    "map = Map(center = (60, -2.2), zoom = 2, min_zoom = 1, max_zoom = 20, \n",
    "    basemap=basemaps.OpenStreetMap.Mapnik)\n",
    "map\n"
   ]
  },
  {
   "cell_type": "code",
   "execution_count": 32,
   "id": "0184b5fb",
   "metadata": {},
   "outputs": [
    {
     "data": {
      "application/vnd.jupyter.widget-view+json": {
       "model_id": "6c3b101acdbb4248ba111866117d7a9b",
       "version_major": 2,
       "version_minor": 0
      },
      "text/plain": [
       "Map(center=[40.35, -3.75], controls=(ZoomControl(options=['position', 'zoom_in_text', 'zoom_in_title', 'zoom_o…"
      ]
     },
     "execution_count": 32,
     "metadata": {},
     "output_type": "execute_result"
    }
   ],
   "source": [
    "from ipyleaflet import Map, Marker, AwesomeIcon, basemaps\n",
    "\n",
    "# Mapa centrado en Madrid\n",
    "center = [40.35, -3.75]\n",
    "zoom = 10\n",
    "map = Map(basemap=basemaps.CartoDB.Positron, center=center, zoom=zoom)\n",
    "\n",
    "# Diccionario de colores\n",
    "colors = {\n",
    "    'Getafe': \"red\",\n",
    "    'Leganés': \"blue\",\n",
    "    'Fuenlabrada': \"green\",\n",
    "    'Alcorcón': \"purple\",\n",
    "}\n",
    "\n",
    "\n",
    "# Iterar sobre cada fila del DataFrame\n",
    "for index, row in df.iterrows():\n",
    "    lat = row[\"latitude\"]\n",
    "    lon = row[\"longitude\"]\n",
    "    population = row[\"level5\"]\n",
    "\n",
    "\n",
    "\n",
    "\n",
    "    # obtener el color correspondiente o usar negro por defecto\n",
    "    color = colors.get(population, \"black\")\n",
    "\n",
    "    # Crear un marcador con el ícono y color correspondiente\n",
    "    icon = AwesomeIcon(name='info-circle', marker_color=color, icon_color=\"white\")\n",
    "    marker = Marker(location=(lat, lon), icon=icon)\n",
    "    \n",
    "    # Agregar el marcador al mapa\n",
    "    map.add_layer(marker)\n",
    "\n",
    "# Mostrar el mapa\n",
    "map"
   ]
  }
 ],
 "metadata": {
  "kernelspec": {
   "display_name": "Python 3",
   "language": "python",
   "name": "python3"
  },
  "language_info": {
   "codemirror_mode": {
    "name": "ipython",
    "version": 3
   },
   "file_extension": ".py",
   "mimetype": "text/x-python",
   "name": "python",
   "nbconvert_exporter": "python",
   "pygments_lexer": "ipython3",
   "version": "3.11.4"
  }
 },
 "nbformat": 4,
 "nbformat_minor": 5
}
